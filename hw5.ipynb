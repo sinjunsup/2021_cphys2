{
 "cells": [
  {
   "cell_type": "markdown",
   "id": "0e09b126",
   "metadata": {},
   "source": [
    "## Backpropagation"
   ]
  },
  {
   "cell_type": "code",
   "execution_count": 727,
   "id": "675929f3",
   "metadata": {},
   "outputs": [],
   "source": [
    "import numpy as np"
   ]
  },
  {
   "cell_type": "code",
   "execution_count": 728,
   "id": "5a84dbb1",
   "metadata": {},
   "outputs": [],
   "source": [
    "x = [[0,0,1],[1,0,1],[0,1,1],[1,1,1]] # 세번째 항은 bias\n",
    "y = [0,1,1,0] # 타겟 \n",
    "omega=[[1,1,1,1],[1,1,1,1],[1,1,1,1],[1,1,1,1]]\n",
    "w=[[1,1,1],[1,1,1],[1,1,1]] # 초기조건\n",
    "eta = 0.5"
   ]
  },
  {
   "cell_type": "code",
   "execution_count": 729,
   "id": "47a1879e",
   "metadata": {},
   "outputs": [],
   "source": [
    "def f(x):  # 시그모이드 함수\n",
    "    return 1/(1+np.exp(-x))"
   ]
  },
  {
   "cell_type": "code",
   "execution_count": 730,
   "id": "00aead1b",
   "metadata": {
    "scrolled": true
   },
   "outputs": [
    {
     "data": {
      "text/plain": [
       "[[1, 1, 1, 1], [2, 2, 2, 1], [2, 2, 2, 1], [3, 3, 3, 1]]"
      ]
     },
     "execution_count": 730,
     "metadata": {},
     "output_type": "execute_result"
    }
   ],
   "source": [
    "nh1=[[1,1,1,1],[1,1,1,1],[1,1,1,1],[1,1,1,1]] # 은닉층 노드 에 입력값 합\n",
    "def nhm1():\n",
    "    for j in range(4): \n",
    "        for i in range(3):\n",
    "            nh1[j][i]=(np.dot(w[i],x[j]))\n",
    "nhm1()\n",
    "nh1"
   ]
  },
  {
   "cell_type": "code",
   "execution_count": 731,
   "id": "98677e35",
   "metadata": {
    "scrolled": true
   },
   "outputs": [
    {
     "data": {
      "text/plain": [
       "[2.9242343145200196, 3.373449812563652, 3.373449812563652, 3.588780959097305]"
      ]
     },
     "execution_count": 731,
     "metadata": {},
     "output_type": "execute_result"
    }
   ],
   "source": [
    "ny=[1,1,1,1] # 출력층 노드 입력값\n",
    "def nym(): \n",
    "    for i in range(4):\n",
    "        ny[i]=(omega[i][0]*f(nh1[i][0]))+(omega[i][1]*f(nh1[i][1]))+(omega[i][2]*f(nh1[i][2]))+(omega[i][3]*f(nh1[i][3]))\n",
    "nym()\n",
    "ny"
   ]
  },
  {
   "cell_type": "code",
   "execution_count": 737,
   "id": "70452f14",
   "metadata": {},
   "outputs": [
    {
     "data": {
      "text/plain": [
       "[[-1.4657318071125318,\n",
       "  -1.4657318071125318,\n",
       "  -1.4657318071125318,\n",
       "  -1.460327165913128],\n",
       " [1.3544512180459967,\n",
       "  1.3544512180459967,\n",
       "  1.3544512180459967,\n",
       "  1.2923675094624971],\n",
       " [1.3544512180459967,\n",
       "  1.3544512180459967,\n",
       "  1.3544512180459967,\n",
       "  1.2923675094624971],\n",
       " [-1.3776475939919008,\n",
       "  -1.3776475939919008,\n",
       "  -1.3776475939919008,\n",
       "  -0.8237801669561261]]"
      ]
     },
     "execution_count": 737,
     "metadata": {},
     "output_type": "execute_result"
    }
   ],
   "source": [
    "for n in range(1000): #순전파\n",
    "    nhm1()\n",
    "    nym()\n",
    "    for i in range(4):\n",
    "        error = (f(ny[i])-y[i])*f(ny[i])*(1-f(ny[i]))\n",
    "        omega[i][0] = omega[i][0] - eta * error * f(nh1[i][0])\n",
    "        omega[i][1] = omega[i][1] - eta * error * f(nh1[i][1])\n",
    "        omega[i][2] = omega[i][2] - eta * error * f(nh1[i][2])\n",
    "        omega[i][3] = omega[i][3] - eta * error * f(nh1[i][3])\n",
    "omega"
   ]
  },
  {
   "cell_type": "code",
   "execution_count": 736,
   "id": "1bfced8d",
   "metadata": {
    "scrolled": true
   },
   "outputs": [
    {
     "data": {
      "text/plain": [
       "[[1.0365615427624466, 1.0365615427624466, 1.1482188756129108],\n",
       " [1.0365615427624466, 1.0365615427624466, 1.1482188756129108],\n",
       " [1.0365615427624466, 1.0365615427624466, 1.1482188756129108]]"
      ]
     },
     "execution_count": 736,
     "metadata": {},
     "output_type": "execute_result"
    }
   ],
   "source": [
    "for n in range(1000): #역전파\n",
    "    nhm1()\n",
    "    nym()\n",
    "    for i in range(4):\n",
    "        for j in range(3):\n",
    "            error = (f(ny[i])-y[i])*f(ny[i])*(1-f(ny[i]))\n",
    "            error1 = error*omega[i][j]*f(nh1[i][j])*(1-f(nh1[i][j]))\n",
    "            w[j][0] = w[j][0] - eta * error1 *x[i][0]\n",
    "            w[j][1] = w[j][1] - eta * error1 *x[i][1]\n",
    "            w[j][2] = w[j][2] - eta * error1 *x[i][2]\n",
    "w"
   ]
  },
  {
   "cell_type": "code",
   "execution_count": 738,
   "id": "9d82cb16",
   "metadata": {},
   "outputs": [
    {
     "data": {
      "text/plain": [
       "(0.012060226086595687,\n",
       " 0.9900195371881431,\n",
       " 0.9900195371881431,\n",
       " 0.010186819004292219)"
      ]
     },
     "execution_count": 738,
     "metadata": {},
     "output_type": "execute_result"
    }
   ],
   "source": [
    "f(ny[0]),f(ny[1]),f(ny[2]),f(ny[3]) #결과"
   ]
  },
  {
   "cell_type": "code",
   "execution_count": null,
   "id": "7ebdfdc2",
   "metadata": {},
   "outputs": [],
   "source": []
  }
 ],
 "metadata": {
  "kernelspec": {
   "display_name": "Python 3",
   "language": "python",
   "name": "python3"
  },
  "language_info": {
   "codemirror_mode": {
    "name": "ipython",
    "version": 3
   },
   "file_extension": ".py",
   "mimetype": "text/x-python",
   "name": "python",
   "nbconvert_exporter": "python",
   "pygments_lexer": "ipython3",
   "version": "3.8.8"
  }
 },
 "nbformat": 4,
 "nbformat_minor": 5
}
