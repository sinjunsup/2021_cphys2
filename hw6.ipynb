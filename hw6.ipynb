{
 "cells": [
  {
   "cell_type": "markdown",
   "id": "fd6b30a2",
   "metadata": {},
   "source": [
    "## MNIST"
   ]
  },
  {
   "cell_type": "code",
   "execution_count": 115,
   "id": "193ca35a",
   "metadata": {},
   "outputs": [
    {
     "data": {
      "text/plain": [
       "Dataset MNIST\n",
       "    Number of datapoints: 10000\n",
       "    Root location: data\n",
       "    Split: Test\n",
       "    StandardTransform\n",
       "Transform: ToTensor()"
      ]
     },
     "execution_count": 115,
     "metadata": {},
     "output_type": "execute_result"
    }
   ],
   "source": [
    "import numpy as np\n",
    "import matplotlib.pyplot as plt\n",
    "import torch\n",
    "import torchvision\n",
    "\n",
    "train_data = torchvision.datasets.MNIST(\n",
    "    root = 'data',\n",
    "    train = True,                         \n",
    "    transform = torchvision.transforms.ToTensor(), \n",
    "    download = True,            \n",
    ")\n",
    "test_data = torchvision.datasets.MNIST(\n",
    "    root = 'data', \n",
    "    train = False, \n",
    "    transform = torchvision.transforms.ToTensor()\n",
    ")\n",
    "\n",
    "train_data\n",
    "\n",
    "test_data # 제출시 이 test 데이터에 대한 정확도를 출력하세요."
   ]
  },
  {
   "cell_type": "code",
   "execution_count": 116,
   "id": "c19286f5",
   "metadata": {},
   "outputs": [],
   "source": [
    "X=torch.flatten(train_data.data,start_dim=1).float()\n",
    "y=train_data.targets"
   ]
  },
  {
   "cell_type": "code",
   "execution_count": 117,
   "id": "e3654eba",
   "metadata": {},
   "outputs": [],
   "source": [
    "model = torch.nn.Sequential(\n",
    "    torch.nn.Linear(28*28,15), # input - hidden\n",
    "    torch.nn.ReLU(),    \n",
    "    torch.nn.Linear(15,10), # hidden - hidden\n",
    "    torch.nn.ReLU(),   \n",
    "    torch.nn.Linear(10,10), # hidden - out\n",
    "    torch.nn.Softmax(dim=1)\n",
    ")\n",
    "\n",
    "# loss and optimizer\n",
    "learning_rate = 0.01\n",
    "criterion = torch.nn.CrossEntropyLoss()\n",
    "optimizer = torch.optim.Adam(model.parameters(),lr=learning_rate)"
   ]
  },
  {
   "cell_type": "code",
   "execution_count": 118,
   "id": "54d86fa0",
   "metadata": {
    "scrolled": true
   },
   "outputs": [
    {
     "name": "stdout",
     "output_type": "stream",
     "text": [
      "0 loss 2.3211276531219482 accuracy tensor(0.1141)\n",
      "100 loss 1.9641714096069336 accuracy tensor(0.4951)\n",
      "200 loss 1.7949271202087402 accuracy tensor(0.6651)\n",
      "300 loss 1.602334976196289 accuracy tensor(0.8697)\n",
      "400 loss 1.5045205354690552 accuracy tensor(0.9567)\n",
      "500 loss 1.499504566192627 accuracy tensor(0.9617)\n",
      "600 loss 1.496473789215088 accuracy tensor(0.9646)\n",
      "700 loss 1.493411898612976 accuracy tensor(0.9677)\n",
      "800 loss 1.493254542350769 accuracy tensor(0.9678)\n",
      "900 loss 1.4932256937026978 accuracy tensor(0.9679)\n"
     ]
    }
   ],
   "source": [
    "for epoch in range(1000):\n",
    "    y_pred = model(X)\n",
    "    loss = criterion(y_pred,y)\n",
    "    optimizer.zero_grad() # zero_grad(): 미분값 초기화\n",
    "    loss.backward() # backpropagation\n",
    "    optimizer.step() # update weights and biases\n",
    "    \n",
    "    if(epoch%100==0):\n",
    "        prediction = y_pred.max(1)[1]\n",
    "        corrects = (prediction == y)\n",
    "        accuracy = corrects.sum().float() / float( y.size(0) )\n",
    "        print(epoch,\"loss\" ,loss.item(),\"accuracy\",accuracy)"
   ]
  },
  {
   "cell_type": "code",
   "execution_count": 120,
   "id": "52942805",
   "metadata": {},
   "outputs": [
    {
     "data": {
      "text/plain": [
       "tensor(0.9679)"
      ]
     },
     "execution_count": 120,
     "metadata": {},
     "output_type": "execute_result"
    }
   ],
   "source": [
    "corrects = (prediction == y)\n",
    "accuracy = corrects.sum().float() / float( y.size(0) )\n",
    "accuracy # 가장 높은 정확도"
   ]
  }
 ],
 "metadata": {
  "kernelspec": {
   "display_name": "Python 3",
   "language": "python",
   "name": "python3"
  },
  "language_info": {
   "codemirror_mode": {
    "name": "ipython",
    "version": 3
   },
   "file_extension": ".py",
   "mimetype": "text/x-python",
   "name": "python",
   "nbconvert_exporter": "python",
   "pygments_lexer": "ipython3",
   "version": "3.8.8"
  }
 },
 "nbformat": 4,
 "nbformat_minor": 5
}
