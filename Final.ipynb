{
 "cells": [
  {
   "cell_type": "markdown",
   "id": "bb8a057f",
   "metadata": {},
   "source": [
    "## 1. Titanic (Regression)"
   ]
  },
  {
   "cell_type": "code",
   "execution_count": 218,
   "id": "841b740e",
   "metadata": {},
   "outputs": [],
   "source": [
    "import torch\n",
    "import torchvision\n",
    "import torchvision.transforms as transforms"
   ]
  },
  {
   "cell_type": "code",
   "execution_count": 235,
   "id": "94084798",
   "metadata": {},
   "outputs": [],
   "source": [
    "import numpy as np \n",
    "import matplotlib.pyplot as plt\n",
    "import pandas as pd\n",
    "from sklearn.linear_model import LogisticRegression # 머신러닝 종류1\n",
    "from sklearn.ensemble import RandomForestClassifier # 종류2"
   ]
  },
  {
   "cell_type": "code",
   "execution_count": 236,
   "id": "2e43cd0d",
   "metadata": {},
   "outputs": [],
   "source": [
    "train_data = pd.read_csv(open(r\"C:/Users/etgol/Desktop/titanic/train.csv\",'r')) #데이터 읽기\n",
    "test = pd.read_csv(open(r\"C:/Users/etgol/Desktop/titanic/test.csv\",'r')) #데이터 읽기"
   ]
  },
  {
   "cell_type": "code",
   "execution_count": 237,
   "id": "eadc02ae",
   "metadata": {},
   "outputs": [
    {
     "data": {
      "text/html": [
       "<div>\n",
       "<style scoped>\n",
       "    .dataframe tbody tr th:only-of-type {\n",
       "        vertical-align: middle;\n",
       "    }\n",
       "\n",
       "    .dataframe tbody tr th {\n",
       "        vertical-align: top;\n",
       "    }\n",
       "\n",
       "    .dataframe thead th {\n",
       "        text-align: right;\n",
       "    }\n",
       "</style>\n",
       "<table border=\"1\" class=\"dataframe\">\n",
       "  <thead>\n",
       "    <tr style=\"text-align: right;\">\n",
       "      <th></th>\n",
       "      <th>PassengerId</th>\n",
       "      <th>Survived</th>\n",
       "      <th>Pclass</th>\n",
       "      <th>Name</th>\n",
       "      <th>Sex</th>\n",
       "      <th>Age</th>\n",
       "      <th>SibSp</th>\n",
       "      <th>Parch</th>\n",
       "      <th>Ticket</th>\n",
       "      <th>Fare</th>\n",
       "      <th>Cabin</th>\n",
       "      <th>Embarked</th>\n",
       "    </tr>\n",
       "  </thead>\n",
       "  <tbody>\n",
       "    <tr>\n",
       "      <th>0</th>\n",
       "      <td>1</td>\n",
       "      <td>0</td>\n",
       "      <td>3</td>\n",
       "      <td>Braund, Mr. Owen Harris</td>\n",
       "      <td>male</td>\n",
       "      <td>22.0</td>\n",
       "      <td>1</td>\n",
       "      <td>0</td>\n",
       "      <td>A/5 21171</td>\n",
       "      <td>7.2500</td>\n",
       "      <td>NaN</td>\n",
       "      <td>S</td>\n",
       "    </tr>\n",
       "    <tr>\n",
       "      <th>1</th>\n",
       "      <td>2</td>\n",
       "      <td>1</td>\n",
       "      <td>1</td>\n",
       "      <td>Cumings, Mrs. John Bradley (Florence Briggs Th...</td>\n",
       "      <td>female</td>\n",
       "      <td>38.0</td>\n",
       "      <td>1</td>\n",
       "      <td>0</td>\n",
       "      <td>PC 17599</td>\n",
       "      <td>71.2833</td>\n",
       "      <td>C85</td>\n",
       "      <td>C</td>\n",
       "    </tr>\n",
       "    <tr>\n",
       "      <th>2</th>\n",
       "      <td>3</td>\n",
       "      <td>1</td>\n",
       "      <td>3</td>\n",
       "      <td>Heikkinen, Miss. Laina</td>\n",
       "      <td>female</td>\n",
       "      <td>26.0</td>\n",
       "      <td>0</td>\n",
       "      <td>0</td>\n",
       "      <td>STON/O2. 3101282</td>\n",
       "      <td>7.9250</td>\n",
       "      <td>NaN</td>\n",
       "      <td>S</td>\n",
       "    </tr>\n",
       "    <tr>\n",
       "      <th>3</th>\n",
       "      <td>4</td>\n",
       "      <td>1</td>\n",
       "      <td>1</td>\n",
       "      <td>Futrelle, Mrs. Jacques Heath (Lily May Peel)</td>\n",
       "      <td>female</td>\n",
       "      <td>35.0</td>\n",
       "      <td>1</td>\n",
       "      <td>0</td>\n",
       "      <td>113803</td>\n",
       "      <td>53.1000</td>\n",
       "      <td>C123</td>\n",
       "      <td>S</td>\n",
       "    </tr>\n",
       "    <tr>\n",
       "      <th>4</th>\n",
       "      <td>5</td>\n",
       "      <td>0</td>\n",
       "      <td>3</td>\n",
       "      <td>Allen, Mr. William Henry</td>\n",
       "      <td>male</td>\n",
       "      <td>35.0</td>\n",
       "      <td>0</td>\n",
       "      <td>0</td>\n",
       "      <td>373450</td>\n",
       "      <td>8.0500</td>\n",
       "      <td>NaN</td>\n",
       "      <td>S</td>\n",
       "    </tr>\n",
       "    <tr>\n",
       "      <th>...</th>\n",
       "      <td>...</td>\n",
       "      <td>...</td>\n",
       "      <td>...</td>\n",
       "      <td>...</td>\n",
       "      <td>...</td>\n",
       "      <td>...</td>\n",
       "      <td>...</td>\n",
       "      <td>...</td>\n",
       "      <td>...</td>\n",
       "      <td>...</td>\n",
       "      <td>...</td>\n",
       "      <td>...</td>\n",
       "    </tr>\n",
       "    <tr>\n",
       "      <th>886</th>\n",
       "      <td>887</td>\n",
       "      <td>0</td>\n",
       "      <td>2</td>\n",
       "      <td>Montvila, Rev. Juozas</td>\n",
       "      <td>male</td>\n",
       "      <td>27.0</td>\n",
       "      <td>0</td>\n",
       "      <td>0</td>\n",
       "      <td>211536</td>\n",
       "      <td>13.0000</td>\n",
       "      <td>NaN</td>\n",
       "      <td>S</td>\n",
       "    </tr>\n",
       "    <tr>\n",
       "      <th>887</th>\n",
       "      <td>888</td>\n",
       "      <td>1</td>\n",
       "      <td>1</td>\n",
       "      <td>Graham, Miss. Margaret Edith</td>\n",
       "      <td>female</td>\n",
       "      <td>19.0</td>\n",
       "      <td>0</td>\n",
       "      <td>0</td>\n",
       "      <td>112053</td>\n",
       "      <td>30.0000</td>\n",
       "      <td>B42</td>\n",
       "      <td>S</td>\n",
       "    </tr>\n",
       "    <tr>\n",
       "      <th>888</th>\n",
       "      <td>889</td>\n",
       "      <td>0</td>\n",
       "      <td>3</td>\n",
       "      <td>Johnston, Miss. Catherine Helen \"Carrie\"</td>\n",
       "      <td>female</td>\n",
       "      <td>NaN</td>\n",
       "      <td>1</td>\n",
       "      <td>2</td>\n",
       "      <td>W./C. 6607</td>\n",
       "      <td>23.4500</td>\n",
       "      <td>NaN</td>\n",
       "      <td>S</td>\n",
       "    </tr>\n",
       "    <tr>\n",
       "      <th>889</th>\n",
       "      <td>890</td>\n",
       "      <td>1</td>\n",
       "      <td>1</td>\n",
       "      <td>Behr, Mr. Karl Howell</td>\n",
       "      <td>male</td>\n",
       "      <td>26.0</td>\n",
       "      <td>0</td>\n",
       "      <td>0</td>\n",
       "      <td>111369</td>\n",
       "      <td>30.0000</td>\n",
       "      <td>C148</td>\n",
       "      <td>C</td>\n",
       "    </tr>\n",
       "    <tr>\n",
       "      <th>890</th>\n",
       "      <td>891</td>\n",
       "      <td>0</td>\n",
       "      <td>3</td>\n",
       "      <td>Dooley, Mr. Patrick</td>\n",
       "      <td>male</td>\n",
       "      <td>32.0</td>\n",
       "      <td>0</td>\n",
       "      <td>0</td>\n",
       "      <td>370376</td>\n",
       "      <td>7.7500</td>\n",
       "      <td>NaN</td>\n",
       "      <td>Q</td>\n",
       "    </tr>\n",
       "  </tbody>\n",
       "</table>\n",
       "<p>891 rows × 12 columns</p>\n",
       "</div>"
      ],
      "text/plain": [
       "     PassengerId  Survived  Pclass  \\\n",
       "0              1         0       3   \n",
       "1              2         1       1   \n",
       "2              3         1       3   \n",
       "3              4         1       1   \n",
       "4              5         0       3   \n",
       "..           ...       ...     ...   \n",
       "886          887         0       2   \n",
       "887          888         1       1   \n",
       "888          889         0       3   \n",
       "889          890         1       1   \n",
       "890          891         0       3   \n",
       "\n",
       "                                                  Name     Sex   Age  SibSp  \\\n",
       "0                              Braund, Mr. Owen Harris    male  22.0      1   \n",
       "1    Cumings, Mrs. John Bradley (Florence Briggs Th...  female  38.0      1   \n",
       "2                               Heikkinen, Miss. Laina  female  26.0      0   \n",
       "3         Futrelle, Mrs. Jacques Heath (Lily May Peel)  female  35.0      1   \n",
       "4                             Allen, Mr. William Henry    male  35.0      0   \n",
       "..                                                 ...     ...   ...    ...   \n",
       "886                              Montvila, Rev. Juozas    male  27.0      0   \n",
       "887                       Graham, Miss. Margaret Edith  female  19.0      0   \n",
       "888           Johnston, Miss. Catherine Helen \"Carrie\"  female   NaN      1   \n",
       "889                              Behr, Mr. Karl Howell    male  26.0      0   \n",
       "890                                Dooley, Mr. Patrick    male  32.0      0   \n",
       "\n",
       "     Parch            Ticket     Fare Cabin Embarked  \n",
       "0        0         A/5 21171   7.2500   NaN        S  \n",
       "1        0          PC 17599  71.2833   C85        C  \n",
       "2        0  STON/O2. 3101282   7.9250   NaN        S  \n",
       "3        0            113803  53.1000  C123        S  \n",
       "4        0            373450   8.0500   NaN        S  \n",
       "..     ...               ...      ...   ...      ...  \n",
       "886      0            211536  13.0000   NaN        S  \n",
       "887      0            112053  30.0000   B42        S  \n",
       "888      2        W./C. 6607  23.4500   NaN        S  \n",
       "889      0            111369  30.0000  C148        C  \n",
       "890      0            370376   7.7500   NaN        Q  \n",
       "\n",
       "[891 rows x 12 columns]"
      ]
     },
     "execution_count": 237,
     "metadata": {},
     "output_type": "execute_result"
    }
   ],
   "source": [
    "train_data"
   ]
  },
  {
   "cell_type": "code",
   "execution_count": 238,
   "id": "7b76c86c",
   "metadata": {},
   "outputs": [],
   "source": [
    "train_data['Embarked'] = np.where(train_data['Embarked'] == 'S', 1, train_data['Embarked']) # Embarked 문자에 숫자를 부여\n",
    "train_data['Embarked'] = np.where(train_data['Embarked'] == 'C', 2, train_data['Embarked'])\n",
    "train_data['Embarked'] = np.where(train_data['Embarked'] == 'Q', 3, train_data['Embarked'])\n",
    "train_data['Sex'] = np.where(train_data['Sex'] == 'male', 1, train_data['Sex']) # 성별에 숫자를 부여\n",
    "train_data['Sex'] = np.where(train_data['Sex'] == 'female', 2, train_data['Sex'])\n",
    "\n",
    "test['Embarked'] = np.where(test['Embarked'] == 'S', 1, test['Embarked']) # Embarked 문자에 숫자를 부여\n",
    "test['Embarked'] = np.where(test['Embarked'] == 'C', 2, test['Embarked'])\n",
    "test['Embarked'] = np.where(test['Embarked'] == 'Q', 3, test['Embarked'])\n",
    "test['Sex'] = np.where(test['Sex'] == 'male', 1, test['Sex']) # 성별에 숫자를 부여\n",
    "test['Sex'] = np.where(test['Sex'] == 'female', 2, test['Sex'])\n",
    "\n",
    "train_data['Age'].fillna(train_data['Age'].mean(), inplace=True) # 비어있는 나이칸에 평균 나이 부여\n",
    "test['Age'].fillna(test['Age'].mean(), inplace=True)\n",
    "\n",
    "train_data.fillna(0, inplace=True) # 나머지 비어있는(확률을 구하는데 필요없는 변수)칸에 숫자 0을 부여\n",
    "test.fillna(0, inplace=True)"
   ]
  },
  {
   "cell_type": "code",
   "execution_count": 239,
   "id": "79a2b5e1",
   "metadata": {},
   "outputs": [],
   "source": [
    "x1 = train_data[['Pclass','Sex','Age','SibSp','Fare','Parch','Embarked']]\n",
    "y1 = train_data[\"Survived\"]\n",
    "x2 = test[['Pclass','Sex','Age','SibSp','Fare','Parch','Embarked']]"
   ]
  },
  {
   "cell_type": "code",
   "execution_count": 240,
   "id": "3244e83d",
   "metadata": {
    "scrolled": true
   },
   "outputs": [
    {
     "data": {
      "text/plain": [
       "0.9820426487093153"
      ]
     },
     "execution_count": 240,
     "metadata": {},
     "output_type": "execute_result"
    }
   ],
   "source": [
    "a = RandomForestClassifier(n_estimators=100) # RandomForestClassifier  확률\n",
    "a.fit(x1, y1)\n",
    "Y2 = a.predict(x2)\n",
    "a.score(x1, y1)"
   ]
  },
  {
   "cell_type": "code",
   "execution_count": 241,
   "id": "abe282ba",
   "metadata": {},
   "outputs": [
    {
     "name": "stderr",
     "output_type": "stream",
     "text": [
      "C:\\Users\\etgol\\Anaconda3\\lib\\site-packages\\sklearn\\linear_model\\_logistic.py:763: ConvergenceWarning: lbfgs failed to converge (status=1):\n",
      "STOP: TOTAL NO. of ITERATIONS REACHED LIMIT.\n",
      "\n",
      "Increase the number of iterations (max_iter) or scale the data as shown in:\n",
      "    https://scikit-learn.org/stable/modules/preprocessing.html\n",
      "Please also refer to the documentation for alternative solver options:\n",
      "    https://scikit-learn.org/stable/modules/linear_model.html#logistic-regression\n",
      "  n_iter_i = _check_optimize_result(\n"
     ]
    },
    {
     "data": {
      "text/plain": [
       "0.8024691358024691"
      ]
     },
     "execution_count": 241,
     "metadata": {},
     "output_type": "execute_result"
    }
   ],
   "source": [
    "b = LogisticRegression() # LogisticRegression  확률\n",
    "b.fit(x1, y1)\n",
    "Y2 = a.predict(x2)\n",
    "b.score(x1, y1)"
   ]
  },
  {
   "cell_type": "code",
   "execution_count": 216,
   "id": "675d1283",
   "metadata": {},
   "outputs": [],
   "source": [
    "a = RandomForestClassifier(n_estimators=100) # RandomForestClassifier  확률 csv 추출기\n",
    "a.fit(x1, y1)\n",
    "Y2 = a.predict(x2)\n",
    "submission = pd.DataFrame({\n",
    "        \"PassengerId\": test[\"PassengerId\"],\n",
    "        \"Survived\": Y2\n",
    "    })\n",
    "submission.to_csv('titanic1.csv', index=False)"
   ]
  },
  {
   "cell_type": "code",
   "execution_count": 196,
   "id": "fd3d182c",
   "metadata": {},
   "outputs": [],
   "source": [
    "b = LogisticRegression() # LogisticRegression  확률 csv 추출기\n",
    "b.fit(x1, y1)\n",
    "Y_pred = b.predict(x2)\n",
    "submission = pd.DataFrame({\n",
    "        \"PassengerId\": test[\"PassengerId\"],\n",
    "        \"Survived\": Y_pred\n",
    "    })\n",
    "submission.to_csv('titanic2.csv', index=False)\n",
    "#csv파일변환"
   ]
  },
  {
   "cell_type": "markdown",
   "id": "38dfb347",
   "metadata": {},
   "source": [
    "##  보고서[Titanic (Regression)]\n",
    "1. 기존 LogisticRegression를 이용했을때 확률이 낮게 나와서 RandomForestClassifier를 사용한 결과 확률은 대략 0.18정도 상승하는 큰 효과를 볼수 있었음\n",
    "2. 데이터 에 'Fare'(요금)항목을 넣었을때랑 넣지 않았을때, RandomForestClassifier기준 확률차이는 대략 0.05퍼정도로 유의미한 차이를 볼 수 있음. 추측건대 요금에 따라 시설의 차이, 객실의 위치가 다르기에 이런 현상이 나타나는것이라 판단함"
   ]
  },
  {
   "cell_type": "markdown",
   "id": "fe36a42b",
   "metadata": {},
   "source": [
    "## 2. Image classification with CNN"
   ]
  },
  {
   "cell_type": "code",
   "execution_count": 314,
   "id": "c0fe62d7",
   "metadata": {},
   "outputs": [],
   "source": [
    "import torch\n",
    "import torchvision\n",
    "import torchvision.transforms as transforms\n",
    "import numpy as np"
   ]
  },
  {
   "cell_type": "code",
   "execution_count": 365,
   "id": "4b2104ea",
   "metadata": {},
   "outputs": [
    {
     "name": "stdout",
     "output_type": "stream",
     "text": [
      "Files already downloaded and verified\n",
      "Files already downloaded and verified\n"
     ]
    }
   ],
   "source": [
    "\n",
    "trainset = torchvision.datasets.CIFAR10(\n",
    "    root='./data', \n",
    "    train=True,\n",
    "    download=True, \n",
    "    transform=torchvision.transforms.ToTensor()\n",
    ")\n",
    "\n",
    "\n",
    "testset = torchvision.datasets.CIFAR10(\n",
    "    root='./data', \n",
    "    train=False,\n",
    "    download=True, \n",
    "    transform=torchvision.transforms.ToTensor()\n",
    ")"
   ]
  },
  {
   "cell_type": "code",
   "execution_count": 366,
   "id": "c73f0070",
   "metadata": {},
   "outputs": [],
   "source": [
    "batch_size = 4\n",
    "\n",
    "train_loader = torch.utils.data.DataLoader(\n",
    "    trainset, \n",
    "    batch_size=batch_size,\n",
    "    shuffle=True\n",
    ")\n",
    "test_loader = torch.utils.data.DataLoader(\n",
    "    testset, \n",
    "    batch_size=batch_size,\n",
    "    shuffle=False\n",
    ")"
   ]
  },
  {
   "cell_type": "code",
   "execution_count": 367,
   "id": "50390f4f",
   "metadata": {},
   "outputs": [],
   "source": [
    "import torch.nn as nn \n",
    "\n",
    "\n",
    "class net(nn.Module):\n",
    "    def __init__(self):\n",
    "        super().__init__()\n",
    "        self.conv1 = nn.Conv2d(in_channels=3, out_channels=6, kernel_size=3,padding=1) # 3색이라 채널 3개\n",
    "        self.conv2 = nn.Conv2d(in_channels=6, out_channels=8, kernel_size=3,padding=1)\n",
    "        self.fc1 = nn.Linear(8 * 8* 8, 25)\n",
    "        self.fc2 = nn.Linear(25, 15)\n",
    "        self.fc3 = nn.Linear(15, 10)\n",
    "        \n",
    "    def forward(self, x):#(32* 32 * 3)\n",
    "        x = self.conv1(x) # (32* 32 * 6)\n",
    "        x = nn.functional.relu(x)\n",
    "        x = nn.functional.max_pool2d(x, 2) # (16 * 16 * 6)\n",
    "        x = self.conv2(x) # (16 * 16 *  8)\n",
    "        x = nn.functional.relu(x)\n",
    "        x = nn.functional.max_pool2d(x, 2) # (8 * 8* 8)\n",
    "        \n",
    "        # fully connected\n",
    "        x = nn.functional.relu(x)\n",
    "        x = nn.functional.relu(x)\n",
    "        x = torch.flatten(x,1)\n",
    "        x = self.fc1(x)\n",
    "        x = self.fc2(x)\n",
    "        x = self.fc3(x)\n",
    "        return x"
   ]
  },
  {
   "cell_type": "code",
   "execution_count": 368,
   "id": "20ce0590",
   "metadata": {},
   "outputs": [],
   "source": [
    "model = net()\n",
    "\n",
    "# loss and optimizer\n",
    "learning_rate = 0.001\n",
    "criterion = nn.CrossEntropyLoss()\n",
    "optimizer = torch.optim.Adam(model.parameters(), learning_rate)"
   ]
  },
  {
   "cell_type": "code",
   "execution_count": 369,
   "id": "8aafd1a6",
   "metadata": {},
   "outputs": [],
   "source": [
    "def train(model, criterion, optimizer, data):\n",
    "    model.train() # \n",
    "    for x,y in data:\n",
    "        optimizer.zero_grad() # zero_grad(): 미분값 초기화\n",
    "        y_pred = model(x)\n",
    "        loss = criterion(y_pred,y)\n",
    "        loss.backward() # 역전파\n",
    "        optimizer.step() # 가중치 수정"
   ]
  },
  {
   "cell_type": "code",
   "execution_count": 370,
   "id": "b9a62f90",
   "metadata": {},
   "outputs": [],
   "source": [
    "def evaluation(model, criterion, optimizer, data):\n",
    "    model.eval() \n",
    "    test_loss = 0\n",
    "    accuracy = 0\n",
    "    total=0\n",
    "    with torch.no_grad():\n",
    "        for x, y in data:\n",
    "            y_pred = model(x)\n",
    "            test_loss = criterion(y_pred, y).item()\n",
    "            prediction = y_pred.max(1)[1]\n",
    "            total +=y.size(0)# y의 총합\n",
    "            accuracy += (prediction == y).sum().item()\n",
    "            accuracyt = accuracy/total # 총합으로 전개\n",
    "    return test_loss, accuracyt    "
   ]
  },
  {
   "cell_type": "code",
   "execution_count": 374,
   "id": "efb551d1",
   "metadata": {},
   "outputs": [
    {
     "name": "stdout",
     "output_type": "stream",
     "text": [
      "0 loss= 0.9999982714653015 accu= 0.6085\n",
      "2 loss= 0.9537733793258667 accu= 0.601\n",
      "4 loss= 0.9945063591003418 accu= 0.6039\n",
      "6 loss= 0.9313428401947021 accu= 0.5999\n",
      "8 loss= 0.7566298842430115 accu= 0.5928\n"
     ]
    }
   ],
   "source": [
    "nums_epoch = 10\n",
    "for epoch in range(nums_epoch):\n",
    "    train(model, criterion, optimizer, train_loader)\n",
    "    \n",
    "    if(epoch%2==0):\n",
    "        E, accu = evaluation(model, criterion, optimizer, test_loader)\n",
    "        print(epoch, \"loss=\", E, \"accu=\", accu)"
   ]
  },
  {
   "cell_type": "markdown",
   "id": "d7b669d2",
   "metadata": {},
   "source": [
    "##  보고서(Image classification with CNN)\n",
    "계속 시도해봤지만 확률이 60% 이상을 넘기는 것을 보기가 어려움.\n",
    "이것에 대한 원인은 evaluation에서 일어난 것으로 판단됨 \n",
    "그이유는 각 물체에 대한 확률로 평균을 구했기 때문에 일어난 일이라 생각함."
   ]
  },
  {
   "cell_type": "code",
   "execution_count": null,
   "id": "5c73461a",
   "metadata": {},
   "outputs": [],
   "source": []
  }
 ],
 "metadata": {
  "kernelspec": {
   "display_name": "Python 3",
   "language": "python",
   "name": "python3"
  },
  "language_info": {
   "codemirror_mode": {
    "name": "ipython",
    "version": 3
   },
   "file_extension": ".py",
   "mimetype": "text/x-python",
   "name": "python",
   "nbconvert_exporter": "python",
   "pygments_lexer": "ipython3",
   "version": "3.8.8"
  }
 },
 "nbformat": 4,
 "nbformat_minor": 5
}
